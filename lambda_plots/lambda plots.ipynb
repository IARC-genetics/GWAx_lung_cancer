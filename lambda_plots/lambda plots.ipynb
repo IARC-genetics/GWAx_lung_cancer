{
 "cells": [
  {
   "cell_type": "markdown",
   "metadata": {},
   "source": [
    "# Lambda plots and adjustment calculation"
   ]
  },
  {
   "cell_type": "code",
   "execution_count": null,
   "metadata": {},
   "outputs": [],
   "source": [
    "import numpy as np\n",
    "import matplotlib.pyplot as plt\n",
    "\n",
    "def QQ_plot_FH(ass_results, lambda_est , title ):\n",
    "    lambda_est = str(round(lambda_est,4))\n",
    "    #Input Data\n",
    "    data1 = ass_results\n",
    "    data1 = data1.dropna()\n",
    "    data = data1.FH_P.copy().values.flatten()\n",
    "    data.sort()\n",
    "    #work out n\n",
    "    n = len(data)\n",
    "    ##defining function\n",
    "    def log_trans(x):\n",
    "        t = -np.log10(x)\n",
    "        return t\n",
    "    def log_exp(x):\n",
    "        t = np.log(x)\n",
    "        return t\n",
    "    ##to calculate the expected\n",
    "    increment = 1.0/np.float64(n)\n",
    "    current_expected = np.float64(1.0)\n",
    "    ##empty array\n",
    "    observed= []\n",
    "    expected= []\n",
    "    chi = []\n",
    "    ##feed array with calculations\n",
    "    for i in data:\n",
    "        moo = (log_trans(i))\n",
    "        observed.append(moo)\n",
    "        woof = (log_trans(current_expected))\n",
    "        expected.append(woof)\n",
    "        current_expected -= increment\n",
    "    #sort from lowest to highest\n",
    "    observed.sort()\n",
    "    expected.sort()\n",
    "    #Work out axis for graph\n",
    "    pmin = (min(data))\n",
    "    pmax = (max(data))\n",
    "    axisMax = ((log_trans(pmin)+ 1 ))\n",
    "    # plot the arrays\n",
    "    fig = plt.figure()\n",
    "    #plt.xlim([0,axisMax])\n",
    "    plt.xlim([0,10])\n",
    "    plt.xlabel(\"Expected -log10(p)\")\n",
    "    plt.ylim([0,axisMax])\n",
    "    plt.ylabel(\"Observed -log10(p)\" )\n",
    "    plt.title( title + \" QQ Plot - adjusted Lambda = \" +lambda_est )\n",
    "    ##    # the observed vs. expected data\n",
    "    dataAx = fig.add_subplot(1,1,1)\n",
    "    dataAx.plot(expected,observed,'r.') # red dots\n",
    "    # a diagonal line for comparison\n",
    "    lineAx = fig.add_subplot(1,1,1)\n",
    "    lineAx.plot([0,axisMax],[0,axisMax],'b-') # blue line\n",
    "    fig.savefig(title + \".QQ-plot.png\", dpi=200)\n",
    "    plt.close()"
   ]
  },
  {
   "cell_type": "code",
   "execution_count": null,
   "metadata": {},
   "outputs": [],
   "source": [
    "## Calculate the adjusted lambda\n",
    "pvalue = all_df.P.to_numpy()\n",
    "chisq = sci.chi2.ppf(1-pvalue,1)\n",
    "lambda1 = median(chisq)/sci.chi2.ppf(0.5,1)\n",
    "n_cases = 25252\n",
    "n_controls = 51026\n",
    "cases_adj = 1 / n_cases\n",
    "control_adj = 1 / n_controls\n",
    "lambda_adj = lambda1 - 1 \n",
    "bottom_adj_cases = 1/1000\n",
    "bottom_adj_controls = 1/1000\n",
    "\n",
    "adj_lambda = 1 + lambda_adj * (cases_adj + control_adj) / (bottom_adj_cases + bottom_adj_controls)\n",
    "print (adj_lambda)"
   ]
  }
 ],
 "metadata": {
  "kernelspec": {
   "display_name": "Python 3",
   "language": "python",
   "name": "python3"
  },
  "language_info": {
   "codemirror_mode": {
    "name": "ipython",
    "version": 3
   },
   "file_extension": ".py",
   "mimetype": "text/x-python",
   "name": "python",
   "nbconvert_exporter": "python",
   "pygments_lexer": "ipython3",
   "version": "3.7.3"
  }
 },
 "nbformat": 4,
 "nbformat_minor": 4
}
